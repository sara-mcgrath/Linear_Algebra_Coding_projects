{
  "nbformat": 4,
  "nbformat_minor": 0,
  "metadata": {
    "colab": {
      "name": "Gram Schmidt Process.ipynb",
      "provenance": [],
      "authorship_tag": "ABX9TyOAJlsCCUsBcBJF2e5tyXMF",
      "include_colab_link": true
    },
    "kernelspec": {
      "name": "python3",
      "display_name": "Python 3"
    },
    "language_info": {
      "name": "python"
    }
  },
  "cells": [
    {
      "cell_type": "markdown",
      "metadata": {
        "id": "view-in-github",
        "colab_type": "text"
      },
      "source": [
        "<a href=\"https://colab.research.google.com/github/sara-mcgrath/Linear_Algebra_Coding_projects/blob/main/Gram_Schmidt_Process.ipynb\" target=\"_parent\"><img src=\"https://colab.research.google.com/assets/colab-badge.svg\" alt=\"Open In Colab\"/></a>"
      ]
    },
    {
      "cell_type": "code",
      "execution_count": 1,
      "metadata": {
        "id": "St2sB3PkPwz_"
      },
      "outputs": [],
      "source": [
        "import numpy as np \n",
        "from numpy import c_"
      ]
    },
    {
      "cell_type": "code",
      "source": [
        "# write vectors:\n",
        "r1=np.matrix('3;6;0')\n",
        "# dot product of r1 with itself\n",
        "r1=np.array([3,6,0])\n",
        "r1.dot(r1)"
      ],
      "metadata": {
        "colab": {
          "base_uri": "https://localhost:8080/"
        },
        "id": "uu1AeFkJQJ-y",
        "outputId": "623b93ab-64a8-4fc4-9ed2-1d52a54b28c0"
      },
      "execution_count": 11,
      "outputs": [
        {
          "output_type": "execute_result",
          "data": {
            "text/plain": [
              "45"
            ]
          },
          "metadata": {},
          "execution_count": 11
        }
      ]
    },
    {
      "cell_type": "code",
      "source": [
        "np.sqrt(45)"
      ],
      "metadata": {
        "colab": {
          "base_uri": "https://localhost:8080/"
        },
        "id": "UqRmpR73QcPL",
        "outputId": "01f76db6-a8a6-44c5-c0c6-3b5a8f713f9e"
      },
      "execution_count": 12,
      "outputs": [
        {
          "output_type": "execute_result",
          "data": {
            "text/plain": [
              "6.708203932499369"
            ]
          },
          "metadata": {},
          "execution_count": 12
        }
      ]
    },
    {
      "cell_type": "code",
      "source": [
        "print(\"this is the square root of 45\", np.sqrt(45))"
      ],
      "metadata": {
        "colab": {
          "base_uri": "https://localhost:8080/"
        },
        "id": "kR7dDNLtSe_4",
        "outputId": "4822035f-7abe-43fe-a707-baf596502639"
      },
      "execution_count": 13,
      "outputs": [
        {
          "output_type": "stream",
          "name": "stdout",
          "text": [
            "this is the square root of 45 6.708203932499369\n"
          ]
        }
      ]
    },
    {
      "cell_type": "code",
      "source": [
        "# Gram-Schmidt process using the first vector [3,6,0]\n",
        "r1=np.array([3,6,0])\n",
        "print(\"our first messy vector is\", r1)\n",
        "\n",
        "# Temporary vector T1\n",
        "T1=r1\n",
        "print(\"our T1 vector is\", T1)\n",
        "# Find the magnitude of T1\n",
        "n1=np.sqrt(T1.dot(T1))\n",
        "print(\"the size of T1 is |T1|=\",n1)\n",
        "# renormalize, and create u1:\n",
        "u1=(1/n1)*T1\n",
        "print(\"u1=u1\", u1)"
      ],
      "metadata": {
        "colab": {
          "base_uri": "https://localhost:8080/"
        },
        "id": "_dA6TPSvSvXU",
        "outputId": "82505b57-174e-4a82-964b-51ae7682fe41"
      },
      "execution_count": 18,
      "outputs": [
        {
          "output_type": "stream",
          "name": "stdout",
          "text": [
            "our first messy vector is [3 6 0]\n",
            "our T1 vector is [3 6 0]\n",
            "the size of T1 is |T1|= 6.708203932499369\n",
            "u1=u1 [0.4472136  0.89442719 0.        ]\n"
          ]
        }
      ]
    },
    {
      "cell_type": "code",
      "source": [
        "# Gram-Schmidt process using the first vector [6,2,0]\n",
        "r2=np.array([6,2,0])\n",
        "print(\"our second messy vector is\", r2)\n",
        "\n",
        "# Temporary vector T2\n",
        "T2=r2-(r2.dot(u1))*u1\n",
        "print(\"our T2 vector is\", T2)\n",
        "\n",
        "# Find the magnitude of T2\n",
        "n2=np.sqrt(T2.dot(T2))\n",
        "print(\"the size of T2 is |T2|=\",n2)\n",
        "# renormalize, and create u1:\n",
        "u2=(1/n2)*T2\n",
        "print(\"u2=u2\", u2)"
      ],
      "metadata": {
        "colab": {
          "base_uri": "https://localhost:8080/"
        },
        "id": "bUfmM6QGT6SP",
        "outputId": "bbfa33e4-5d69-4dc4-e9a7-a8675ff96bea"
      },
      "execution_count": 23,
      "outputs": [
        {
          "output_type": "stream",
          "name": "stdout",
          "text": [
            "our second messy vector is [6 2 0]\n",
            "our T2 vector is [ 4. -2.  0.]\n",
            "the size of T2 is |T2|= 4.47213595499958\n",
            "u2=u2 [ 0.89442719 -0.4472136   0.        ]\n"
          ]
        }
      ]
    },
    {
      "cell_type": "code",
      "source": [
        "# Gram-Schmidt process using the third vector [-4,2,0]\n",
        "r3=np.array([-4,2,0])\n",
        "print(\"our third messy vector is\", r3)\n",
        "\n",
        "# Temporary vector T3\n",
        "T3=r3-(r3.dot(u1))*u1-(r3.dot(u2))*u2\n",
        "print(\"our T3 vector is\", T3)\n",
        "\n",
        "# Find the magnitude of T3\n",
        "n3=np.sqrt(T3.dot(T3))\n",
        "print(\"the size of T3 is |T3|=\",n3)\n",
        "# renormalize, and create u1:\n",
        "#u3=(1/n3)*T3\n",
        "#print(\"u3=u3\", u3)"
      ],
      "metadata": {
        "colab": {
          "base_uri": "https://localhost:8080/"
        },
        "id": "-HTdP9evVVVt",
        "outputId": "b7c88b99-a481-4c92-a78b-e6825cdae766"
      },
      "execution_count": 26,
      "outputs": [
        {
          "output_type": "stream",
          "name": "stdout",
          "text": [
            "our third messy vector is [-4  2  0]\n",
            "our T3 vector is [-4.4408921e-16 -8.8817842e-16  0.0000000e+00]\n",
            "the size of T3 is |T3|= 9.930136612989092e-16\n"
          ]
        }
      ]
    },
    {
      "cell_type": "code",
      "source": [
        "# Gram-Schmidt process using the fourth vector [3,-4,3]\n",
        "r4=np.array([3,-4,3])\n",
        "print(\"our fourth messy vector is\", r4)\n",
        "\n",
        "# Temporary vector T4\n",
        "T4=r4-(r4.dot(u1))*u1-(r4.dot(u2))*u2\n",
        "print(\"our T4 vector is\", T4)\n",
        "\n",
        "# Find the magnitude of T3\n",
        "n4=np.sqrt(T4.dot(T4))\n",
        "print(\"the size of T4 is |T4|=\",n4)\n",
        "# renormalize, and create u1:\n",
        "u4=(1/n4)*T4\n",
        "print(\"u4=u4\", u4)"
      ],
      "metadata": {
        "colab": {
          "base_uri": "https://localhost:8080/"
        },
        "id": "2TE3SBytXAxl",
        "outputId": "67f492b7-0c7a-449e-8f12-9eeeff56ae4a"
      },
      "execution_count": 28,
      "outputs": [
        {
          "output_type": "stream",
          "name": "stdout",
          "text": [
            "our fourth messy vector is [ 3 -4  3]\n",
            "our T4 vector is [4.44089210e-16 1.33226763e-15 3.00000000e+00]\n",
            "the size of T4 is |T4|= 3.0\n",
            "u4=u4 [1.48029737e-16 4.44089210e-16 1.00000000e+00]\n"
          ]
        }
      ]
    },
    {
      "cell_type": "code",
      "source": [
        ""
      ],
      "metadata": {
        "id": "jW1A8y7XYEoX"
      },
      "execution_count": null,
      "outputs": []
    }
  ]
}